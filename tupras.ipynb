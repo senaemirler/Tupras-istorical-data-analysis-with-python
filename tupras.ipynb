{
 "cells": [
  {
   "cell_type": "code",
   "execution_count": 1,
   "id": "99528f5a",
   "metadata": {},
   "outputs": [],
   "source": [
    "import pandas as pd\n",
    "import pandas_datareader as pdr"
   ]
  },
  {
   "cell_type": "code",
   "execution_count": null,
   "id": "c96cb05c",
   "metadata": {},
   "outputs": [],
   "source": [
    "pip install --upgrade pandas-datareader"
   ]
  },
  {
   "cell_type": "code",
   "execution_count": 3,
   "id": "3cb46c9b",
   "metadata": {},
   "outputs": [
    {
     "ename": "NameError",
     "evalue": "name 'pd' is not defined",
     "output_type": "error",
     "traceback": [
      "\u001b[0;31m---------------------------------------------------------------------------\u001b[0m",
      "\u001b[0;31mNameError\u001b[0m                                 Traceback (most recent call last)",
      "\u001b[0;32m/var/folders/0k/57ldq89525g4jv49x_2gfg400000gn/T/ipykernel_20358/991192929.py\u001b[0m in \u001b[0;36m<module>\u001b[0;34m\u001b[0m\n\u001b[0;32m----> 1\u001b[0;31m \u001b[0mdata\u001b[0m \u001b[0;34m=\u001b[0m \u001b[0mpd\u001b[0m\u001b[0;34m.\u001b[0m\u001b[0mread_csv\u001b[0m\u001b[0;34m(\u001b[0m\u001b[0;34m\"tupras.csv\"\u001b[0m\u001b[0;34m)\u001b[0m\u001b[0;34m\u001b[0m\u001b[0;34m\u001b[0m\u001b[0m\n\u001b[0m",
      "\u001b[0;31mNameError\u001b[0m: name 'pd' is not defined"
     ]
    }
   ],
   "source": [
    "data = pdr.get_data_yahoo('TUPRS.İS') \n",
    "data = pd.read_csv(\"tupras.csv\")"
   ]
  },
  {
   "cell_type": "code",
   "execution_count": null,
   "id": "e98c582b",
   "metadata": {},
   "outputs": [],
   "source": [
    "data.head()"
   ]
  },
  {
   "cell_type": "code",
   "execution_count": null,
   "id": "06b0274f",
   "metadata": {},
   "outputs": [],
   "source": [
    "data.dtypes"
   ]
  },
  {
   "cell_type": "code",
   "execution_count": null,
   "id": "98da0504",
   "metadata": {},
   "outputs": [],
   "source": [
    "data.index"
   ]
  },
  {
   "cell_type": "code",
   "execution_count": null,
   "id": "16c91088",
   "metadata": {},
   "outputs": [],
   "source": [
    "data.loc['2022-01-27']"
   ]
  },
  {
   "cell_type": "code",
   "execution_count": null,
   "id": "76bbf6e0",
   "metadata": {},
   "outputs": [],
   "source": [
    "data.loc['2021-01-01':]"
   ]
  },
  {
   "cell_type": "code",
   "execution_count": null,
   "id": "97cf40ee",
   "metadata": {},
   "outputs": [],
   "source": [
    "data.loc[:'2022-07-01']"
   ]
  },
  {
   "cell_type": "code",
   "execution_count": null,
   "id": "3078292d",
   "metadata": {},
   "outputs": [],
   "source": [
    "data.iloc[0]"
   ]
  },
  {
   "cell_type": "code",
   "execution_count": null,
   "id": "e87544f6",
   "metadata": {},
   "outputs": [],
   "source": [
    "data.loc['2022-01-27']"
   ]
  },
  {
   "cell_type": "code",
   "execution_count": null,
   "id": "f1f9c472",
   "metadata": {},
   "outputs": [],
   "source": [
    "data.iloc[-1]"
   ]
  },
  {
   "cell_type": "code",
   "execution_count": null,
   "id": "9ce442f5",
   "metadata": {},
   "outputs": [],
   "source": [
    "data.tail()"
   ]
  },
  {
   "cell_type": "code",
   "execution_count": null,
   "id": "e461410a",
   "metadata": {},
   "outputs": [],
   "source": [
    "daily_chg = data['Open'] - data['Close']"
   ]
  },
  {
   "cell_type": "code",
   "execution_count": null,
   "id": "0e42c1d5",
   "metadata": {},
   "outputs": [],
   "source": [
    "daily_chg"
   ]
  },
  {
   "cell_type": "code",
   "execution_count": null,
   "id": "25a81bed",
   "metadata": {},
   "outputs": [],
   "source": [
    "daily_pct_chg = (data['Close'] - data['Open'])/data['Open']*100"
   ]
  },
  {
   "cell_type": "code",
   "execution_count": null,
   "id": "9b4ceb88",
   "metadata": {},
   "outputs": [],
   "source": [
    "daily_pct_chg"
   ]
  },
  {
   "cell_type": "code",
   "execution_count": null,
   "id": "247f955f",
   "metadata": {},
   "outputs": [],
   "source": [
    "normalize = data['Close']/data['Close'].iloc[0]"
   ]
  },
  {
   "cell_type": "code",
   "execution_count": null,
   "id": "ff128a93",
   "metadata": {},
   "outputs": [],
   "source": [
    "data['Normalized'].min()"
   ]
  },
  {
   "cell_type": "code",
   "execution_count": null,
   "id": "7e298569",
   "metadata": {},
   "outputs": [],
   "source": [
    "data['Normalized'].argmin()"
   ]
  },
  {
   "cell_type": "code",
   "execution_count": null,
   "id": "ae8fda9d",
   "metadata": {},
   "outputs": [],
   "source": [
    "data['Close'].max()"
   ]
  },
  {
   "cell_type": "code",
   "execution_count": null,
   "id": "0254d575",
   "metadata": {},
   "outputs": [],
   "source": [
    "data['Close'].argmax()"
   ]
  },
  {
   "cell_type": "code",
   "execution_count": null,
   "id": "6f7759f7",
   "metadata": {},
   "outputs": [],
   "source": [
    "data['Close'].mean()"
   ]
  },
  {
   "cell_type": "code",
   "execution_count": 2,
   "id": "e1437b69",
   "metadata": {},
   "outputs": [
    {
     "ename": "NameError",
     "evalue": "name 'data' is not defined",
     "output_type": "error",
     "traceback": [
      "\u001b[0;31m---------------------------------------------------------------------------\u001b[0m",
      "\u001b[0;31mNameError\u001b[0m                                 Traceback (most recent call last)",
      "\u001b[0;32m/var/folders/0k/57ldq89525g4jv49x_2gfg400000gn/T/ipykernel_20358/1964243646.py\u001b[0m in \u001b[0;36m<module>\u001b[0;34m\u001b[0m\n\u001b[1;32m      1\u001b[0m \u001b[0;32mimport\u001b[0m \u001b[0mmatplotlib\u001b[0m\u001b[0;34m.\u001b[0m\u001b[0mpyplot\u001b[0m \u001b[0;32mas\u001b[0m \u001b[0mplt\u001b[0m\u001b[0;34m\u001b[0m\u001b[0;34m\u001b[0m\u001b[0m\n\u001b[1;32m      2\u001b[0m \u001b[0mget_ipython\u001b[0m\u001b[0;34m(\u001b[0m\u001b[0;34m)\u001b[0m\u001b[0;34m.\u001b[0m\u001b[0mrun_line_magic\u001b[0m\u001b[0;34m(\u001b[0m\u001b[0;34m'matplotlib'\u001b[0m\u001b[0;34m,\u001b[0m \u001b[0;34m'notebook'\u001b[0m\u001b[0;34m)\u001b[0m\u001b[0;34m\u001b[0m\u001b[0;34m\u001b[0m\u001b[0m\n\u001b[0;32m----> 3\u001b[0;31m \u001b[0mdata\u001b[0m\u001b[0;34m.\u001b[0m\u001b[0mplot\u001b[0m\u001b[0;34m(\u001b[0m\u001b[0;34m)\u001b[0m\u001b[0;34m\u001b[0m\u001b[0;34m\u001b[0m\u001b[0m\n\u001b[0m",
      "\u001b[0;31mNameError\u001b[0m: name 'data' is not defined"
     ]
    }
   ],
   "source": [
    "import matplotlib.pyplot as plt\n",
    "%matplotlib notebook\n",
    "data.plot()"
   ]
  },
  {
   "cell_type": "code",
   "execution_count": null,
   "id": "59ea8a12",
   "metadata": {},
   "outputs": [],
   "source": [
    "data['Close'].plot()"
   ]
  },
  {
   "cell_type": "code",
   "execution_count": null,
   "id": "57e8c9d0",
   "metadata": {},
   "outputs": [],
   "source": [
    "fig, ax = plt.subplots()\n",
    "data['Volume'].plot(ax=ax)\n",
    "ax.set_ylabel(\"Hacim\")\n",
    "ax.set_title(\"TÜPRAŞ\")"
   ]
  },
  {
   "cell_type": "code",
   "execution_count": null,
   "id": "2913304e",
   "metadata": {},
   "outputs": [],
   "source": [
    "fig, ax = plt.subplots(2, 2)\n",
    "data['Open'].plot(ax=ax[0, 0], title=\"Open\")\n",
    "data['High'].plot(ax=ax[0, 1], title=\"High\")\n",
    "data['Low'].plot(ax=ax[1, 0], title=\"Low\")\n",
    "data['Close'].plot(ax=ax[1, 1], title=\"Close\")\n",
    "plt.tight_layout()"
   ]
  },
  {
   "cell_type": "code",
   "execution_count": null,
   "id": "51f298c9",
   "metadata": {},
   "outputs": [],
   "source": [
    "fig, ax = plt.subplots(2, 2)\n",
    "data['Open'].loc['2022-01-01':'2022-03-31'].plot(ax=ax[0, 0], title=\"Ocak, şubat, mart\")\n",
    "data['Open'].loc['2022-04-01':'2022-06-30'].plot(ax=ax[0, 1], title=\"Nisan, mayıs, haziran\")\n",
    "data['Open'].loc['2022-7-01':'2022-09-30'].plot(ax=ax[1, 0], title=\"Temmuz, ağustos, eylül\")\n",
    "data['Open'].loc['2022-10-01':'2022-12-15'].plot(ax=ax[1, 1], title=\"Ekim, kasım, aralık\")\n",
    "plt.tight_layout()"
   ]
  },
  {
   "cell_type": "code",
   "execution_count": null,
   "id": "7112c685",
   "metadata": {},
   "outputs": [],
   "source": [
    "import datetime as dt"
   ]
  },
  {
   "cell_type": "code",
   "execution_count": null,
   "id": "b36e3eb3",
   "metadata": {},
   "outputs": [],
   "source": [
    "start = dt.datetime(2021, 1, 1)\n",
    "end = dt.datetime(2021, 12, 31)\n",
    "data = pdr.get_data_yahoo(\"TUPRS.IS\", start, end)"
   ]
  },
  {
   "cell_type": "code",
   "execution_count": null,
   "id": "c433af9a",
   "metadata": {},
   "outputs": [],
   "source": [
    "data['getiri_oranı'] = np.log(data['Close']/data['Close'].shift())"
   ]
  },
  {
   "cell_type": "code",
   "execution_count": null,
   "id": "7dcada64",
   "metadata": {},
   "outputs": [],
   "source": [
    "data['getiri_oranı'].std()"
   ]
  },
  {
   "cell_type": "code",
   "execution_count": null,
   "id": "7dcb050a",
   "metadata": {},
   "outputs": [],
   "source": [
    "volatility = data['getiri_oranı'].std()*252**.5"
   ]
  },
  {
   "cell_type": "code",
   "execution_count": null,
   "id": "0ccb7f74",
   "metadata": {},
   "outputs": [],
   "source": [
    "str_vol = str(round(volatility, 5)*100)"
   ]
  },
  {
   "cell_type": "code",
   "execution_count": null,
   "id": "0f80b274",
   "metadata": {},
   "outputs": [],
   "source": [
    "fig, ax = plt.subplots()\n",
    "data['getiri_oranı'].hist(ax=ax, bins=50, alpha=0.6, color='b')\n",
    "ax.set_xlabel(\"getiri oranı\")\n",
    "ax.set_ylabel(\"Frekans\")\n",
    "ax.set_title(\"Tüpraş hisselerinin yıllık volatilitesi: \" + str_vol + \"%\")"
   ]
  },
  {
   "cell_type": "code",
   "execution_count": null,
   "id": "3214fcb3",
   "metadata": {},
   "outputs": [],
   "source": [
    "data['MA100'] = data['Close'].rolling(100).mean()"
   ]
  },
  {
   "cell_type": "code",
   "execution_count": null,
   "id": "1c850eee",
   "metadata": {},
   "outputs": [],
   "source": [
    "data['EMA100'] = data['Close'].ewm(span=100, adjust=False).mean()"
   ]
  },
  {
   "cell_type": "code",
   "execution_count": null,
   "id": "e52ce7ae",
   "metadata": {},
   "outputs": [],
   "source": [
    "fig, ax = plt.subplots()\n",
    "data[['MA100', 'EMA100']].loc['2022-05-01':].plot(ax=ax)\n",
    "data['Close'].loc['2022-05-01':].plot(ax=ax, alpha=0.25)\n"
   ]
  },
  {
   "cell_type": "code",
   "execution_count": null,
   "id": "5b84b48f",
   "metadata": {},
   "outputs": [],
   "source": [
    "fig, ax = plt.subplots()\n",
    "data[['MACD', 'Sinyal hattı']].plot(ax=ax)\n",
    "data['Close'].plot(ax=ax, alpha=0.25, secondary_y=True)"
   ]
  },
  {
   "cell_type": "code",
   "execution_count": null,
   "id": "8582d6b7",
   "metadata": {},
   "outputs": [],
   "source": [
    "high14 = data['High'].rolling(14).max()\n",
    "low14 = data['Low'].rolling(14).min()\n",
    "data['%K'] = (data['Close'] - low14)*100/(high14 - low14)\n",
    "data['%D'] = data['%K'].rolling(3).mean()"
   ]
  },
  {
   "cell_type": "code",
   "execution_count": null,
   "id": "782a9ea7",
   "metadata": {},
   "outputs": [],
   "source": [
    "fig, ax = plt.subplots()\n",
    "data[['%K', '%D']].loc['2022-0\n",
    "                       -01':].plot(ax=ax)\n",
    "ax.axhline(80, c='r', alpha=0.3)\n",
    "ax.axhline(20, c='r', alpha=0.3)\n",
    "data['Close'].loc['2022-01-01':].plot(ax=ax, alpha=0.3, secondary_y=True)"
   ]
  },
  {
   "cell_type": "code",
   "execution_count": null,
   "id": "9e9bf392",
   "metadata": {},
   "outputs": [],
   "source": [
    "tickers = ['TUPRS.IS', '000617.SZ', 'SHIIY', 'MPC']\n",
    "start = dt.datetime(2022, 1, 9)\n",
    "end = dt.datetime(2022,12,19)\n",
    "data = pdr.get_data_yahoo(tickers, start, end)"
   ]
  },
  {
   "cell_type": "code",
   "execution_count": null,
   "id": "b3b14ee8",
   "metadata": {},
   "outputs": [],
   "source": [
    "portfolyo = [.25, .25, .25, .25]"
   ]
  },
  {
   "cell_type": "code",
   "execution_count": null,
   "id": "4c1b8670",
   "metadata": {},
   "outputs": [],
   "source": [
    "(data/data.iloc[0])*portfolyo*10000"
   ]
  },
  {
   "cell_type": "code",
   "execution_count": null,
   "id": "a681159d",
   "metadata": {},
   "outputs": [],
   "source": [
    "weight = np.random.random(4)\n",
    "weight /= weight.sum()\n",
    "weight"
   ]
  },
  {
   "cell_type": "code",
   "execution_count": null,
   "id": "ecd6bca0",
   "metadata": {},
   "outputs": [],
   "source": [
    "np.sum((data/data.iloc[0])*portfolios*100000, axis=1)"
   ]
  },
  {
   "cell_type": "code",
   "execution_count": null,
   "id": "bd6c4c20",
   "metadata": {},
   "outputs": [],
   "source": [
    "high_low = data['High'] - data['Low']\n",
    "high_cp = np.abs(data['High'] - data['Close'].shift())\n",
    "low_cp = np.abs(data['Low'] - data['Close'].shift())"
   ]
  },
  {
   "cell_type": "code",
   "execution_count": null,
   "id": "d25fe946",
   "metadata": {},
   "outputs": [],
   "source": [
    "df = pd.concat([high_low, high_cp, low_cp], axis=1)"
   ]
  },
  {
   "cell_type": "code",
   "execution_count": null,
   "id": "14f7318a",
   "metadata": {},
   "outputs": [],
   "source": [
    "true_range = np.max(df, axis=1)"
   ]
  },
  {
   "cell_type": "code",
   "execution_count": null,
   "id": "6717e65d",
   "metadata": {},
   "outputs": [],
   "source": [
    "average_true_range = true_range.rolling(14).mean()"
   ]
  },
  {
   "cell_type": "code",
   "execution_count": null,
   "id": "6343026d",
   "metadata": {},
   "outputs": [],
   "source": [
    "true_range.rolling(14).sum()/14"
   ]
  },
  {
   "cell_type": "code",
   "execution_count": null,
   "id": "68057c21",
   "metadata": {},
   "outputs": [],
   "source": [
    "fig, ax = plt.subplots()\n",
    "average_true_range.plot(ax=ax)\n",
    "ax2 = data['Close'].plot(ax=ax, secondary_y=True, alpha=.3)\n",
    "ax.set_ylabel(\"ATR\")\n",
    "ax2.set_ylabel(\"Fiyat\")"
   ]
  },
  {
   "cell_type": "code",
   "execution_count": 1,
   "id": "c9be31a5",
   "metadata": {},
   "outputs": [
    {
     "ename": "NameError",
     "evalue": "name 'plt' is not defined",
     "output_type": "error",
     "traceback": [
      "\u001b[0;31m---------------------------------------------------------------------------\u001b[0m",
      "\u001b[0;31mNameError\u001b[0m                                 Traceback (most recent call last)",
      "\u001b[0;32m/var/folders/0k/57ldq89525g4jv49x_2gfg400000gn/T/ipykernel_20358/1648073646.py\u001b[0m in \u001b[0;36m<module>\u001b[0;34m\u001b[0m\n\u001b[0;32m----> 1\u001b[0;31m \u001b[0mfig\u001b[0m\u001b[0;34m,\u001b[0m \u001b[0max\u001b[0m \u001b[0;34m=\u001b[0m \u001b[0mplt\u001b[0m\u001b[0;34m.\u001b[0m\u001b[0msubplots\u001b[0m\u001b[0;34m(\u001b[0m\u001b[0;34m)\u001b[0m\u001b[0;34m\u001b[0m\u001b[0;34m\u001b[0m\u001b[0m\n\u001b[0m\u001b[1;32m      2\u001b[0m \u001b[0mgetiri_oranı\u001b[0m\u001b[0;34m.\u001b[0m\u001b[0mhist\u001b[0m\u001b[0;34m(\u001b[0m\u001b[0mbins\u001b[0m\u001b[0;34m=\u001b[0m\u001b[0;36m50\u001b[0m\u001b[0;34m,\u001b[0m \u001b[0max\u001b[0m\u001b[0;34m=\u001b[0m\u001b[0max\u001b[0m\u001b[0;34m)\u001b[0m\u001b[0;34m\u001b[0m\u001b[0;34m\u001b[0m\u001b[0m\n",
      "\u001b[0;31mNameError\u001b[0m: name 'plt' is not defined"
     ]
    }
   ],
   "source": [
    "fig, ax = plt.subplots()\n",
    "getiri_oranı.hist(bins=50, ax=ax)"
   ]
  },
  {
   "cell_type": "code",
   "execution_count": null,
   "id": "8b7876fc",
   "metadata": {},
   "outputs": [],
   "source": [
    "getiri_oranı.std()"
   ]
  },
  {
   "cell_type": "code",
   "execution_count": null,
   "id": "9a5c08db",
   "metadata": {},
   "outputs": [],
   "source": [
    "getiri_oranı.mean()"
   ]
  },
  {
   "cell_type": "code",
   "execution_count": null,
   "id": "45710f51",
   "metadata": {},
   "outputs": [],
   "source": [
    "sharpe_oranı = getiri_oranı.mean()/getiri_oranı.std()"
   ]
  },
  {
   "cell_type": "code",
   "execution_count": null,
   "id": "5da7a2e6",
   "metadata": {},
   "outputs": [],
   "source": [
    "asr = sharpe_ratio*252**.5"
   ]
  },
  {
   "cell_type": "code",
   "execution_count": null,
   "id": "7a0b244a",
   "metadata": {},
   "outputs": [],
   "source": [
    "asr"
   ]
  },
  {
   "cell_type": "code",
   "execution_count": null,
   "id": "05b8d9fc",
   "metadata": {},
   "outputs": [],
   "source": [
    "getiri_oranı2 = np.sum(np.log(data/data.shift())*portfolio, axis=1)"
   ]
  },
  {
   "cell_type": "code",
   "execution_count": null,
   "id": "22010312",
   "metadata": {},
   "outputs": [],
   "source": [
    "sharpe_ratio2 = getiri_oranı2.mean()/getiri_oranı2.std()"
   ]
  },
  {
   "cell_type": "code",
   "execution_count": null,
   "id": "6f190916",
   "metadata": {},
   "outputs": [],
   "source": [
    "asr2 = sharpe_ratio2*252**.5"
   ]
  },
  {
   "cell_type": "code",
   "execution_count": null,
   "id": "8a354cff",
   "metadata": {},
   "outputs": [],
   "source": [
    "kazanc = np.sum(getiri_oranı.mean()*porfolyo)*252"
   ]
  },
  {
   "cell_type": "code",
   "execution_count": null,
   "id": "d0251170",
   "metadata": {},
   "outputs": [],
   "source": [
    "exp_vol = np.sqrt(np.dot(porfolyo.T, np.dot(getiri_oranı.cov()*252, porfolyo)))"
   ]
  },
  {
   "cell_type": "code",
   "execution_count": null,
   "id": "c45e41ca",
   "metadata": {},
   "outputs": [],
   "source": [
    "sharpe_ratio3 = kazanc / exp_vol"
   ]
  },
  {
   "cell_type": "code",
   "execution_count": null,
   "id": "8904f80b",
   "metadata": {},
   "outputs": [],
   "source": [
    "n = 5000\n",
    "\n",
    "porfolyo_1 = np.zeros((n, 4))\n",
    "kazanclar = np.zeros(n)\n",
    "exp_vols = np.zeros(n)\n",
    "sharpe_ratios = np.zeros(n)\n",
    "\n",
    "for i in range(n):\n",
    "    porfolyo = np.random.random(4)\n",
    "    porfolyo /= porfolyo.sum()\n",
    "    porfolyo_1[i] = porfolyo\n",
    "    \n",
    "    kazanclar[i] = np.sum(getiri_oranı.mean()*porfolyo)*252\n",
    "    exp_vols[i] = np.sqrt(np.dot(porfolyo.T, np.dot(getiri_oranı\n",
    "\n",
    ".cov()*252, porfolyo)))\n",
    "    sharpe_ratios[i] = kazanclar[i] / exp_vols[i]"
   ]
  },
  {
   "cell_type": "code",
   "execution_count": null,
   "id": "3c5be84f",
   "metadata": {},
   "outputs": [],
   "source": [
    "fig, ax = plt.subplots()\n",
    "ax.scatter(exp_vols, kazanclar, c=sharpe_ratios)\n",
    "ax.scatter(exp_vols[sharpe_ratios.argmax()], kazanclar[sharpe_ratios.argmax()], c='r')\n",
    "ax.set_xlabel('Beklenen Oynaklık')\n",
    "ax.set_ylabel('Beklenen Getiri')"
   ]
  },
  {
   "cell_type": "code",
   "execution_count": null,
   "id": "574d8ce4",
   "metadata": {},
   "outputs": [],
   "source": []
  }
 ],
 "metadata": {
  "kernelspec": {
   "display_name": "Python 3 (ipykernel)",
   "language": "python",
   "name": "python3"
  },
  "language_info": {
   "codemirror_mode": {
    "name": "ipython",
    "version": 3
   },
   "file_extension": ".py",
   "mimetype": "text/x-python",
   "name": "python",
   "nbconvert_exporter": "python",
   "pygments_lexer": "ipython3",
   "version": "3.9.13"
  }
 },
 "nbformat": 4,
 "nbformat_minor": 5
}
